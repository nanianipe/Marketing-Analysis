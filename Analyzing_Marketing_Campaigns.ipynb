{
  "cells": [
    {
      "cell_type": "markdown",
      "metadata": {
        "id": "GKCx48Szju4u"
      },
      "source": [
        "#    Chapter 1: 'Pandas'"
      ]
    },
    {
      "cell_type": "markdown",
      "metadata": {
        "id": "9AClM5K1yC1I"
      },
      "source": [
        "\n",
        "\n",
        "---\n",
        "\n",
        "> 1- Introduction to pandas form marketing\n",
        "\n",
        "\n",
        "> 2- Data types and data merging\n",
        "\n",
        "\n",
        "> 3- INITIAL EXPLORATORY ANALYSIS\n",
        "\n",
        "\n",
        "\n",
        "\n",
        "\n",
        "\n",
        "\n"
      ]
    },
    {
      "cell_type": "markdown",
      "metadata": {
        "id": "JcwKuBb3af1B"
      },
      "source": [
        "# 1. **Introduction to pandas for marketing**\n",
        "\n",
        "  Hello Guys My name is Nani Anipe, and this project is about the learn how Data Science techniques are used to understand the impact of marketing campaigns.\n",
        "\n",
        "2. **What does a data scientist on a marketing team do?**\n",
        "My hope is that this course will not only help to reinforce your Python and pandas abilities but also help understand what kinds of problems data scientists on marketing teams might encounter. While the possibilities are endless, there are a few types of projects that will almost certainly come up in a marketing team. You will likely be asked how a marketing campaign performed. Marketing campaigns mean anything that required the marketing team to put in work to promote your product. It could be a new creative direction, a discounted product, targeting a specific demographic or a multitude of other options. Another common question is how different marketing channels are performing. For example, when you send out an email how many new users subscribe? Given current conversion rates and revenue, should you continue investing in this channel and how much should you spend? Another common practice in marketing is running experiments, or A/B tests, to try to understand the impact of a particular change. All of these types of questions can intersect. You could analyze a marketing campaign by channel based on A/B test results, or you could tackle any one of these types of questions individually.\n",
        "\n",
        "3. What is pandas, again?\n",
        "First, let me give you a quick refresher on pandas. Hopefully, you've completed DataCamp's foundational pandas courses, but as a reminder, pandas makes data analysis and transformation in Python much easier by formatting the data into a table-like structure similar to an Excel spreadsheet. Pandas makes it easy to import and export common data formats. Once your data is imported, you can adapt your dataset to work for your analysis, including aggregations, merging multiple datasets, and selecting subsets of data that fit specific criteria.\n",
        "\n",
        "4. Importing data using pandas\n",
        "To use pandas, first import pandas using the alias pd. To import a CSV file, you can use the read_csv() function and pass the name of the file you want to import.\n",
        "\n",
        "5. Inspecting data\n",
        "Once you've imported your data, it is a good practice to examine its contents using the head() method. This will return the first five rows of the DataFrame.\n",
        "\n",
        "6. Summary statistics\n",
        "Use the describe() method to print the statistics of all columns in your dataset. You can inspect the output to find some obvious errors. For example, if you see negative values in a date column, this might indicate an error. In addition, pay careful attention to the minimum and maximum values. If the maximum is much larger than the median, it might be an outlier and merit further investigation.\n",
        "\n",
        "7. Missing values & data types\n",
        "Finally, you can identify the data types and the number of non-missing values in your DataFrame using the info() method. The result includes all columns and their data types.\n",
        "\n",
        "8. Let's Practice!\n",
        "Now that you have a high-level understanding of pandas and data science in marketing let's practice combining these two skills!"
      ]
    },
    {
      "cell_type": "code",
      "execution_count": 4,
      "metadata": {
        "colab": {
          "base_uri": "https://localhost:8080/",
          "height": 144
        },
        "id": "3w1wHN3uyRMI",
        "outputId": "dabc3032-aeaa-49d7-cb59-0d917d79b632"
      },
      "outputs": [
        {
          "data": {
            "application/vnd.google.colaboratory.intrinsic+json": {
              "type": "string"
            },
            "text/plain": [
              "'\\nHay algunos tipos de proyectos que seguramente surgirán en un equipo de marketing:\\n    -Es probable que se pregunte cómo se realizó una campaña de marketing\\n     (Analyzing marketing campaign performance). Las campañas de marketing son cualquier\\n     cosa que requiera que el equipo de marketing se ponga a trabajar para promover su \\n     producto.\\n\\n    -Otra pregunta común es cómo se están desempeñando los diferentes canales de marketing\\n    (Attributing credit for conversions to marketing channels).Por ejemplo: cuando se manda\\n    un mail, ¿cúantos usuarios nuevos se suscriben?, dadas las tasas de conversión e ingresos\\n    actuales, ¿debería seguir invirtiendo en este canal, y cúanto debería gastar?.\\n\\n    - Otra práctica común en marketing es ejecutar experimentos o A/B testing, para\\n    intentar comprender el impacto de un cambio en particular. \\n\\nTodas estas cuestiones pueden intersectarse, por ejemplo, podría analizar una\\ncampaña de marketing por canal en función de los resultados del A/B testing. \\nO puede abordar cualquiera de estas preguntas de manera individual.  \\n'"
            ]
          },
          "execution_count": 4,
          "metadata": {
            "tags": []
          },
          "output_type": "execute_result"
        }
      ],
      "source": [
        "1 #INTRODUCTION TO PANDAS FOR MARKETING \n",
        "\"\"\"\n",
        "Hay algunos tipos de proyectos que seguramente surgirán en un equipo de marketing:\n",
        "    -Es probable que se pregunte cómo se realizó una campaña de marketing\n",
        "     (Analyzing marketing campaign performance). Las campañas de marketing son cualquier\n",
        "     cosa que requiera que el equipo de marketing se ponga a trabajar para promover su \n",
        "     producto.\n",
        "\n",
        "    -Otra pregunta común es cómo se están desempeñando los diferentes canales de marketing\n",
        "    (Attributing credit for conversions to marketing channels).Por ejemplo: cuando se manda\n",
        "    un mail, ¿cúantos usuarios nuevos se suscriben?, dadas las tasas de conversión e ingresos\n",
        "    actuales, ¿debería seguir invirtiendo en este canal, y cúanto debería gastar?.\n",
        "\n",
        "    - Otra práctica común en marketing es ejecutar experimentos o A/B testing, para\n",
        "    intentar comprender el impacto de un cambio en particular. \n",
        "\n",
        "Todas estas cuestiones pueden intersectarse, por ejemplo, podría analizar una\n",
        "campaña de marketing por canal en función de los resultados del A/B testing. \n",
        "O puede abordar cualquiera de estas preguntas de manera individual.  \n",
        "\"\"\""
      ]
    },
    {
      "cell_type": "code",
      "execution_count": 5,
      "metadata": {
        "id": "19lyS1RyBHgc"
      },
      "outputs": [],
      "source": [
        "# IMPORTING DATA USING PANDAS\n",
        "\n",
        "import pandas as pd"
      ]
    },
    {
      "cell_type": "code",
      "execution_count": 6,
      "metadata": {
        "id": "dbxpFCSdBhHB"
      },
      "outputs": [],
      "source": [
        "from google.colab import files "
      ]
    },
    {
      "cell_type": "code",
      "execution_count": 7,
      "metadata": {
        "id": "dfdkLTObBNp0"
      },
      "outputs": [],
      "source": [
        "import io"
      ]
    },
    {
      "cell_type": "code",
      "execution_count": 8,
      "metadata": {
        "colab": {
          "base_uri": "https://localhost:8080/",
          "height": 74,
          "resources": {
            "http://localhost:8080/nbextensions/google.colab/files.js": {
              "data": "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",
              "headers": [
                [
                  "content-type",
                  "application/javascript"
                ]
              ],
              "ok": true,
              "status": 200,
              "status_text": ""
            }
          }
        },
        "id": "4Iwe6D4lBxVl",
        "outputId": "7150ffda-cb3f-4eed-df15-29f21a76b869"
      },
      "outputs": [
        {
          "data": {
            "text/html": [
              "\n",
              "     <input type=\"file\" id=\"files-4fafe1ea-1986-4e4b-8e63-a697cdc20ec8\" name=\"files[]\" multiple disabled\n",
              "        style=\"border:none\" />\n",
              "     <output id=\"result-4fafe1ea-1986-4e4b-8e63-a697cdc20ec8\">\n",
              "      Upload widget is only available when the cell has been executed in the\n",
              "      current browser session. Please rerun this cell to enable.\n",
              "      </output>\n",
              "      <script src=\"/nbextensions/google.colab/files.js\"></script> "
            ],
            "text/plain": [
              "<IPython.core.display.HTML object>"
            ]
          },
          "metadata": {
            "tags": []
          },
          "output_type": "display_data"
        },
        {
          "name": "stdout",
          "output_type": "stream",
          "text": [
            "Saving marketing.csv to marketing.csv\n"
          ]
        }
      ],
      "source": [
        "uploaded = files.upload()\n"
      ]
    },
    {
      "cell_type": "code",
      "execution_count": 9,
      "metadata": {
        "id": "dFroOujXCKQ8"
      },
      "outputs": [],
      "source": [
        "marketing = pd.read_csv('marketing.csv')"
      ]
    },
    {
      "cell_type": "code",
      "execution_count": 10,
      "metadata": {
        "colab": {
          "base_uri": "https://localhost:8080/",
          "height": 293
        },
        "id": "ZaT3ZhYZCcNK",
        "outputId": "469602bd-1ccb-4b95-f375-a729af0175fa"
      },
      "outputs": [
        {
          "data": {
            "text/html": [
              "<div>\n",
              "<style scoped>\n",
              "    .dataframe tbody tr th:only-of-type {\n",
              "        vertical-align: middle;\n",
              "    }\n",
              "\n",
              "    .dataframe tbody tr th {\n",
              "        vertical-align: top;\n",
              "    }\n",
              "\n",
              "    .dataframe thead th {\n",
              "        text-align: right;\n",
              "    }\n",
              "</style>\n",
              "<table border=\"1\" class=\"dataframe\">\n",
              "  <thead>\n",
              "    <tr style=\"text-align: right;\">\n",
              "      <th></th>\n",
              "      <th>user_id</th>\n",
              "      <th>date_served</th>\n",
              "      <th>marketing_channel</th>\n",
              "      <th>variant</th>\n",
              "      <th>converted</th>\n",
              "      <th>language_displayed</th>\n",
              "      <th>language_preferred</th>\n",
              "      <th>age_group</th>\n",
              "      <th>date_subscribed</th>\n",
              "      <th>date_canceled</th>\n",
              "      <th>subscribing_channel</th>\n",
              "      <th>is_retained</th>\n",
              "    </tr>\n",
              "  </thead>\n",
              "  <tbody>\n",
              "    <tr>\n",
              "      <th>0</th>\n",
              "      <td>a100000029</td>\n",
              "      <td>1/1/18</td>\n",
              "      <td>House Ads</td>\n",
              "      <td>personalization</td>\n",
              "      <td>True</td>\n",
              "      <td>English</td>\n",
              "      <td>English</td>\n",
              "      <td>0-18 years</td>\n",
              "      <td>1/1/18</td>\n",
              "      <td>NaN</td>\n",
              "      <td>House Ads</td>\n",
              "      <td>True</td>\n",
              "    </tr>\n",
              "    <tr>\n",
              "      <th>1</th>\n",
              "      <td>a100000030</td>\n",
              "      <td>1/1/18</td>\n",
              "      <td>House Ads</td>\n",
              "      <td>personalization</td>\n",
              "      <td>True</td>\n",
              "      <td>English</td>\n",
              "      <td>English</td>\n",
              "      <td>19-24 years</td>\n",
              "      <td>1/1/18</td>\n",
              "      <td>NaN</td>\n",
              "      <td>House Ads</td>\n",
              "      <td>True</td>\n",
              "    </tr>\n",
              "    <tr>\n",
              "      <th>2</th>\n",
              "      <td>a100000031</td>\n",
              "      <td>1/1/18</td>\n",
              "      <td>House Ads</td>\n",
              "      <td>personalization</td>\n",
              "      <td>True</td>\n",
              "      <td>English</td>\n",
              "      <td>English</td>\n",
              "      <td>24-30 years</td>\n",
              "      <td>1/1/18</td>\n",
              "      <td>NaN</td>\n",
              "      <td>House Ads</td>\n",
              "      <td>True</td>\n",
              "    </tr>\n",
              "    <tr>\n",
              "      <th>3</th>\n",
              "      <td>a100000032</td>\n",
              "      <td>1/1/18</td>\n",
              "      <td>House Ads</td>\n",
              "      <td>personalization</td>\n",
              "      <td>True</td>\n",
              "      <td>English</td>\n",
              "      <td>English</td>\n",
              "      <td>30-36 years</td>\n",
              "      <td>1/1/18</td>\n",
              "      <td>NaN</td>\n",
              "      <td>House Ads</td>\n",
              "      <td>True</td>\n",
              "    </tr>\n",
              "    <tr>\n",
              "      <th>4</th>\n",
              "      <td>a100000033</td>\n",
              "      <td>1/1/18</td>\n",
              "      <td>House Ads</td>\n",
              "      <td>personalization</td>\n",
              "      <td>True</td>\n",
              "      <td>English</td>\n",
              "      <td>English</td>\n",
              "      <td>36-45 years</td>\n",
              "      <td>1/1/18</td>\n",
              "      <td>NaN</td>\n",
              "      <td>House Ads</td>\n",
              "      <td>True</td>\n",
              "    </tr>\n",
              "  </tbody>\n",
              "</table>\n",
              "</div>"
            ],
            "text/plain": [
              "      user_id date_served  ... subscribing_channel is_retained\n",
              "0  a100000029      1/1/18  ...           House Ads        True\n",
              "1  a100000030      1/1/18  ...           House Ads        True\n",
              "2  a100000031      1/1/18  ...           House Ads        True\n",
              "3  a100000032      1/1/18  ...           House Ads        True\n",
              "4  a100000033      1/1/18  ...           House Ads        True\n",
              "\n",
              "[5 rows x 12 columns]"
            ]
          },
          "execution_count": 10,
          "metadata": {
            "tags": []
          },
          "output_type": "execute_result"
        }
      ],
      "source": [
        "marketing.head()"
      ]
    },
    {
      "cell_type": "code",
      "execution_count": 11,
      "metadata": {
        "colab": {
          "base_uri": "https://localhost:8080/",
          "height": 210
        },
        "id": "vfcyTWprC43E",
        "outputId": "17de48cb-ddc3-4cf8-d4f8-afc5eece033f"
      },
      "outputs": [
        {
          "data": {
            "text/html": [
              "<div>\n",
              "<style scoped>\n",
              "    .dataframe tbody tr th:only-of-type {\n",
              "        vertical-align: middle;\n",
              "    }\n",
              "\n",
              "    .dataframe tbody tr th {\n",
              "        vertical-align: top;\n",
              "    }\n",
              "\n",
              "    .dataframe thead th {\n",
              "        text-align: right;\n",
              "    }\n",
              "</style>\n",
              "<table border=\"1\" class=\"dataframe\">\n",
              "  <thead>\n",
              "    <tr style=\"text-align: right;\">\n",
              "      <th></th>\n",
              "      <th>user_id</th>\n",
              "      <th>date_served</th>\n",
              "      <th>marketing_channel</th>\n",
              "      <th>variant</th>\n",
              "      <th>converted</th>\n",
              "      <th>language_displayed</th>\n",
              "      <th>language_preferred</th>\n",
              "      <th>age_group</th>\n",
              "      <th>date_subscribed</th>\n",
              "      <th>date_canceled</th>\n",
              "      <th>subscribing_channel</th>\n",
              "      <th>is_retained</th>\n",
              "    </tr>\n",
              "  </thead>\n",
              "  <tbody>\n",
              "    <tr>\n",
              "      <th>count</th>\n",
              "      <td>10037</td>\n",
              "      <td>10021</td>\n",
              "      <td>10022</td>\n",
              "      <td>10037</td>\n",
              "      <td>10022</td>\n",
              "      <td>10037</td>\n",
              "      <td>10037</td>\n",
              "      <td>10037</td>\n",
              "      <td>1856</td>\n",
              "      <td>577</td>\n",
              "      <td>1856</td>\n",
              "      <td>1856</td>\n",
              "    </tr>\n",
              "    <tr>\n",
              "      <th>unique</th>\n",
              "      <td>7309</td>\n",
              "      <td>31</td>\n",
              "      <td>5</td>\n",
              "      <td>2</td>\n",
              "      <td>2</td>\n",
              "      <td>4</td>\n",
              "      <td>4</td>\n",
              "      <td>7</td>\n",
              "      <td>31</td>\n",
              "      <td>115</td>\n",
              "      <td>5</td>\n",
              "      <td>2</td>\n",
              "    </tr>\n",
              "    <tr>\n",
              "      <th>top</th>\n",
              "      <td>a100000882</td>\n",
              "      <td>1/15/18</td>\n",
              "      <td>House Ads</td>\n",
              "      <td>control</td>\n",
              "      <td>False</td>\n",
              "      <td>English</td>\n",
              "      <td>English</td>\n",
              "      <td>19-24 years</td>\n",
              "      <td>1/16/18</td>\n",
              "      <td>4/2/18</td>\n",
              "      <td>Instagram</td>\n",
              "      <td>True</td>\n",
              "    </tr>\n",
              "    <tr>\n",
              "      <th>freq</th>\n",
              "      <td>12</td>\n",
              "      <td>789</td>\n",
              "      <td>4733</td>\n",
              "      <td>5091</td>\n",
              "      <td>8946</td>\n",
              "      <td>9793</td>\n",
              "      <td>9275</td>\n",
              "      <td>1682</td>\n",
              "      <td>163</td>\n",
              "      <td>15</td>\n",
              "      <td>600</td>\n",
              "      <td>1279</td>\n",
              "    </tr>\n",
              "  </tbody>\n",
              "</table>\n",
              "</div>"
            ],
            "text/plain": [
              "           user_id date_served  ... subscribing_channel is_retained\n",
              "count        10037       10021  ...                1856        1856\n",
              "unique        7309          31  ...                   5           2\n",
              "top     a100000882     1/15/18  ...           Instagram        True\n",
              "freq            12         789  ...                 600        1279\n",
              "\n",
              "[4 rows x 12 columns]"
            ]
          },
          "execution_count": 11,
          "metadata": {
            "tags": []
          },
          "output_type": "execute_result"
        }
      ],
      "source": [
        "marketing.describe()"
      ]
    },
    {
      "cell_type": "code",
      "execution_count": 12,
      "metadata": {
        "colab": {
          "base_uri": "https://localhost:8080/",
          "height": 90
        },
        "id": "MY1xrU6dDLZh",
        "outputId": "188d4811-c7d0-4edc-df7e-009f04e408ac"
      },
      "outputs": [
        {
          "data": {
            "application/vnd.google.colaboratory.intrinsic+json": {
              "type": "string"
            },
            "text/plain": [
              "'\\nEsto se hace para realizar un análisis de los datos por arriba, por ejemplo \\nvisualizar si hay missing values, o si hay algún dato atípico. Por ejemplo, si \\nse ve que en la columna fecha hay un valor negativo, esto podría ser un error.\\n  Es muy importante prestarle atención a los valores mínimos y máximos, por\\n  ejemplo, si el máximo es mucho mayor que la mediana, podría ser un valor atípico\\n  y merece una mayor investigación. \\n'"
            ]
          },
          "execution_count": 12,
          "metadata": {
            "tags": []
          },
          "output_type": "execute_result"
        }
      ],
      "source": [
        "\"\"\"\n",
        "Esto se hace para realizar un análisis de los datos por arriba, por ejemplo \n",
        "visualizar si hay missing values, o si hay algún dato atípico. Por ejemplo, si \n",
        "se ve que en la columna fecha hay un valor negativo, esto podría ser un error.\n",
        "  Es muy importante prestarle atención a los valores mínimos y máximos, por\n",
        "  ejemplo, si el máximo es mucho mayor que la mediana, podría ser un valor atípico\n",
        "  y merece una mayor investigación. \n",
        "\"\"\""
      ]
    },
    {
      "cell_type": "code",
      "execution_count": 13,
      "metadata": {
        "colab": {
          "base_uri": "https://localhost:8080/",
          "height": 379
        },
        "id": "vpwcsAe3Eet3",
        "outputId": "a30bd08b-ca6b-4045-9a90-31daef282cb5"
      },
      "outputs": [
        {
          "name": "stdout",
          "output_type": "stream",
          "text": [
            "<class 'pandas.core.frame.DataFrame'>\n",
            "RangeIndex: 10037 entries, 0 to 10036\n",
            "Data columns (total 12 columns):\n",
            " #   Column               Non-Null Count  Dtype \n",
            "---  ------               --------------  ----- \n",
            " 0   user_id              10037 non-null  object\n",
            " 1   date_served          10021 non-null  object\n",
            " 2   marketing_channel    10022 non-null  object\n",
            " 3   variant              10037 non-null  object\n",
            " 4   converted            10022 non-null  object\n",
            " 5   language_displayed   10037 non-null  object\n",
            " 6   language_preferred   10037 non-null  object\n",
            " 7   age_group            10037 non-null  object\n",
            " 8   date_subscribed      1856 non-null   object\n",
            " 9   date_canceled        577 non-null    object\n",
            " 10  subscribing_channel  1856 non-null   object\n",
            " 11  is_retained          1856 non-null   object\n",
            "dtypes: object(12)\n",
            "memory usage: 941.1+ KB\n"
          ]
        },
        {
          "data": {
            "application/vnd.google.colaboratory.intrinsic+json": {
              "type": "string"
            },
            "text/plain": [
              "'\\nFinalmente, también puede identificarse los tipos de datos y el número de non \\nmissing values en el DataFrame usando el info() method. \\n'"
            ]
          },
          "execution_count": 13,
          "metadata": {
            "tags": []
          },
          "output_type": "execute_result"
        }
      ],
      "source": [
        "marketing.info()\n",
        "\n",
        "\"\"\"\n",
        "Finalmente, también puede identificarse los tipos de datos y el número de non \n",
        "missing values en el DataFrame usando el info() method. \n",
        "\"\"\""
      ]
    },
    {
      "cell_type": "code",
      "execution_count": 13,
      "metadata": {
        "id": "KuTS6bvtRSNA"
      },
      "outputs": [],
      "source": []
    },
    {
      "cell_type": "markdown",
      "metadata": {
        "id": "Cf5Z2Z2na41u"
      },
      "source": [
        "#** 2.1 Data types and data merging**\n",
        "In this lesson, we will talk about various techniques to manipulate data using Pandas.\n",
        "\n",
        "2. Common data types  \n",
        "Each column in a pandas DataFrame has a specific data type. Some of the common data types are strings (which are represented as objects), numbers, boolean values (which are True/False) and dates.\n",
        "\n",
        "3. Data type of a column  \n",
        "You can use the dtype attribute if you are interested in knowing the data type of a single column.\n",
        "\n",
        "4. Changing the data type of a column  \n",
        "To change the data type of a column, you can use the astype() method. For example, you saw on the earlier slide that the converted column is stored as an object. It contains True and False values, so it's more appropriate to store it as a boolean. You can use the astype() method along with the argument 'bool' as shown here to change its data type. If you check the data type of the 'converted' column again, you will see that it's now 'bool'.\n",
        "\n",
        "5. Creating new boolean columns  \n",
        "The marketing_channel column captures the channel a user saw a marketing asset on. Say you want to have a column that identifies if a particular marketing asset was a house ad or not. You can use numpy's where() function to create a new boolean column to establish this. The first argument is an expression that checks whether the value in the marketing_channel column is 'House Ads', the second argument is the value you want to assign if the expression is true, and the third argument is the value you want to assign if the expression is false.\n",
        "\n",
        "6. Mapping values to existing columns  \n",
        "Due to the way pandas stores data, in a large dataset, it can be computationally inefficient to store columns of strings. In such cases, it can speed things up to instead store these values as numbers. To create a column with channel codes, build a dictionary that maps the channels to numerical codes. Then, use the map() method on the channel column along with this dictionary, as shown here.\n",
        "\n",
        "7. Date columns  \n",
        "Often, you will have date columns that are improperly read as objects by pandas. However, as you will see in the following lessons, having date columns properly imported as the datetime datatype has several advantages. You have two options to ensure that certain columns are treated as dates. First, when importing the dataset using the read_csv() function, you can pass a list of column names to the parse_dates argument to ensure that these columns are correctly interpreted as date columns.\n",
        "\n",
        "8. Date columns  \n",
        "Another option is to use the pandas' datetime() function to convert a specific column.\n",
        "\n",
        "9. Date columns  \n",
        "Once the dates in the column are properly imported, you can use various date attributes to extract relevant information. For example, to obtain the day of the week, you can use the dayofweek attribute along with the dt accessor on the date column. This will result in a numerical value where 0 maps to Monday, 1 to Tuesday, and so on.\n",
        "\n",
        "10. Let's Practice! \n",
        "It's time for you to practice these concepts."
      ]
    },
    {
      "cell_type": "code",
      "execution_count": 14,
      "metadata": {
        "colab": {
          "base_uri": "https://localhost:8080/"
        },
        "id": "mGguhuQ0Eg_c",
        "outputId": "68445c6e-88b7-4382-f069-bb8d9dafeefc"
      },
      "outputs": [
        {
          "name": "stdout",
          "output_type": "stream",
          "text": [
            "object\n"
          ]
        }
      ],
      "source": [
        "2 #DATA TYPES AND DATA MERGING\n",
        "\n",
        "#Si se quiere conocer el tipo de datos de una sola coplumna:\n",
        "\n",
        "print(marketing['converted'].dtype)\n",
        "\n"
      ]
    },
    {
      "cell_type": "code",
      "execution_count": 15,
      "metadata": {
        "id": "7Akln6BSXlB0"
      },
      "outputs": [],
      "source": [
        "#para cambiar el tipo de datos de una columna, se usa el method astype()\n",
        "\n",
        "marketing['converted'] = marketing['converted'].astype('bool')"
      ]
    },
    {
      "cell_type": "code",
      "execution_count": 16,
      "metadata": {
        "colab": {
          "base_uri": "https://localhost:8080/"
        },
        "id": "4ZR1htdKksJv",
        "outputId": "797758cd-4495-41e2-bc5f-31ee20be5a03"
      },
      "outputs": [
        {
          "name": "stdout",
          "output_type": "stream",
          "text": [
            "bool\n"
          ]
        }
      ],
      "source": [
        "print(marketing['converted'].dtype)"
      ]
    },
    {
      "cell_type": "code",
      "execution_count": 17,
      "metadata": {
        "id": "I4GJ1vXIlvhh"
      },
      "outputs": [],
      "source": [
        "import numpy as np"
      ]
    },
    {
      "cell_type": "code",
      "execution_count": 18,
      "metadata": {
        "colab": {
          "base_uri": "https://localhost:8080/",
          "height": 0
        },
        "id": "z90ufD91lPU7",
        "outputId": "1fd7a8e7-f36d-4a6f-b32a-33ef5321d27f"
      },
      "outputs": [
        {
          "data": {
            "application/vnd.google.colaboratory.intrinsic+json": {
              "type": "string"
            },
            "text/plain": [
              "'\\nEl primer argumento es una expresión que comprueba si el valor la columna\\nmarketing_channel es house ads, el segundo argumento es el valor que desea \\nasignar si la expresión es verdadera, y el tercer argumento es el valor que \\nse desea asignar si la expresión es falsa.\\n'"
            ]
          },
          "execution_count": 18,
          "metadata": {
            "tags": []
          },
          "output_type": "execute_result"
        }
      ],
      "source": [
        "#Creating new boolean columns\n",
        "\n",
        "marketing['is_house_ads'] = np.where(marketing['marketing_channel']=='House Ads', True, False)\n",
        "\n",
        "\"\"\"\n",
        "El primer argumento es una expresión que comprueba si el valor la columna\n",
        "marketing_channel es house ads, el segundo argumento es el valor que desea \n",
        "asignar si la expresión es verdadera, y el tercer argumento es el valor que \n",
        "se desea asignar si la expresión es falsa.\n",
        "\"\"\""
      ]
    },
    {
      "cell_type": "code",
      "execution_count": 19,
      "metadata": {
        "colab": {
          "base_uri": "https://localhost:8080/",
          "height": 0
        },
        "id": "tySvHdN3lrxI",
        "outputId": "74538cff-988a-4061-e579-48964c13e517"
      },
      "outputs": [
        {
          "data": {
            "application/vnd.google.colaboratory.intrinsic+json": {
              "type": "string"
            },
            "text/plain": [
              "'\\nDada la forma en la que Pandas almacena datos, en un gran conjunto de datos,puede\\nser computacionalmente ineficiente para almacenar columns of strings. En tales \\ncasos, puede acelerar las cosas almacenar estos valores como números.  \\n\\nPara crear una columna with channel codes, hay que crear un diccionary que asigne\\nlos channel a códigos numéricos. \\n'"
            ]
          },
          "execution_count": 19,
          "metadata": {
            "tags": []
          },
          "output_type": "execute_result"
        }
      ],
      "source": [
        "#MAPPING VALUES TO EXISTING COLUMNS\n",
        "\n",
        "\"\"\"\n",
        "Dada la forma en la que Pandas almacena datos, en un gran conjunto de datos,puede\n",
        "ser computacionalmente ineficiente para almacenar columns of strings. En tales \n",
        "casos, puede acelerar las cosas almacenar estos valores como números.  \n",
        "\n",
        "Para crear una columna with channel codes, hay que crear un diccionary que asigne\n",
        "los channel a códigos numéricos. \n",
        "\"\"\""
      ]
    },
    {
      "cell_type": "code",
      "execution_count": 20,
      "metadata": {
        "id": "GhKrT64mMOec"
      },
      "outputs": [],
      "source": [
        "channel_dict = {\"House Ads\": 1, 'Instagram': 2,'Facebook': 3, 'Email': 4, 'Push': 5}\n",
        "marketing['channel_code'] = marketing['marketing_channel'].map(channel_dict)\n",
        "\n"
      ]
    },
    {
      "cell_type": "code",
      "execution_count": 21,
      "metadata": {
        "colab": {
          "base_uri": "https://localhost:8080/"
        },
        "id": "A2KUg47GMsM3",
        "outputId": "0e8c2a18-fd95-41a9-a7c9-9191670a8b2f"
      },
      "outputs": [
        {
          "data": {
            "text/plain": [
              "0    1.0\n",
              "1    1.0\n",
              "2    1.0\n",
              "Name: channel_code, dtype: float64"
            ]
          },
          "execution_count": 21,
          "metadata": {
            "tags": []
          },
          "output_type": "execute_result"
        }
      ],
      "source": [
        "marketing['channel_code'].head(3)"
      ]
    },
    {
      "cell_type": "code",
      "execution_count": 22,
      "metadata": {
        "colab": {
          "base_uri": "https://localhost:8080/"
        },
        "id": "-iIhbK0PMyzU",
        "outputId": "087f3d89-2f4e-4993-fa56-30f892f3daf5"
      },
      "outputs": [
        {
          "name": "stdout",
          "output_type": "stream",
          "text": [
            "0    1.0\n",
            "1    1.0\n",
            "2    1.0\n",
            "Name: channel_code, dtype: float64\n"
          ]
        }
      ],
      "source": [
        "print(marketing['channel_code'].head(3))"
      ]
    },
    {
      "cell_type": "code",
      "execution_count": 23,
      "metadata": {
        "colab": {
          "base_uri": "https://localhost:8080/",
          "height": 0
        },
        "id": "eQfF6QqiM4b1",
        "outputId": "b280e770-b441-4841-d1c6-04467d95d692"
      },
      "outputs": [
        {
          "data": {
            "application/vnd.google.colaboratory.intrinsic+json": {
              "type": "string"
            },
            "text/plain": [
              "'\\nA menudo, nos vamos a encontrar columnas con fechas, las cuales sean leidas \\nincorrectamente por Pandas como objetos. Pueden hacerse 2 cosas\\n\\n'"
            ]
          },
          "execution_count": 23,
          "metadata": {
            "tags": []
          },
          "output_type": "execute_result"
        }
      ],
      "source": [
        "#DATE COLUMNS \n",
        "\n",
        "\"\"\"\n",
        "A menudo, nos vamos a encontrar columnas con fechas, las cuales sean leidas \n",
        "incorrectamente por Pandas como objetos. Pueden hacerse 2 cosas\n",
        "\n",
        "\"\"\""
      ]
    },
    {
      "cell_type": "code",
      "execution_count": 24,
      "metadata": {
        "id": "GoglSFiNOH1R"
      },
      "outputs": [],
      "source": [
        "# 1- Rate date columns using parse_dates\n",
        "\n",
        "marketing = pd.read_csv('marketing.csv', parse_dates =['date_served', 'date_subscribed','date_canceled'])"
      ]
    },
    {
      "cell_type": "code",
      "execution_count": 25,
      "metadata": {
        "id": "wS3rrzpXNlJW"
      },
      "outputs": [],
      "source": [
        "# 2- Convert already existing column to datetime column\n",
        "\n",
        "marketing['date_served'] = pd.to_datetime(marketing['date_served'])"
      ]
    },
    {
      "cell_type": "code",
      "execution_count": 26,
      "metadata": {
        "id": "v7x90T0dN12M"
      },
      "outputs": [],
      "source": [
        "#Una vez que las fechas de la columna se hayan importado correctamente,\n",
        "# se pueden utilizar diferente atributos de fecha para extraer información relevante\n",
        "\n",
        "marketing['day_served'] = marketing['date_served'].dt.dayofweek"
      ]
    },
    {
      "cell_type": "code",
      "execution_count": 26,
      "metadata": {
        "id": "NKVoD9G7OdZR"
      },
      "outputs": [],
      "source": []
    },
    {
      "cell_type": "markdown",
      "metadata": {
        "id": "BAFA3MhQbPo6"
      },
      "source": [
        "\n",
        "# **3.1 Initial exploratory analysis**\n",
        "Now that you've imported the marketing dataset and are familiar with it let's do some initial exploratory analysis.\n",
        "\n",
        "2. How many users see marketing assets?  \n",
        "To begin, let's get a sense of how many unique users see our marketing assets each day. We can use the groupby() method on the marketing DataFrame. To group by date, we pass 'date_served' as the argument to groupby(). Next, we select the user_id column outside of the groupby() and use nunique() method to count the number of unique users each day. Looks like about 300 users each day see our ads.\n",
        "\n",
        "3. Visualizing results   \n",
        "As you saw on the previous slide, it's not easy to interpret results when they're printed in a table. It's much easier to notice fluctuations in our metrics when we plot them. We first import matplotlib dot pyplot as plt. Then, we plot the series daily_users. It's good practice to always add title and labels to your plot in order to clearly convey what information the chart contains. You can add a title using plt dot title(), and add x and y labels using plt dot xlabel() and plt dot ylabel() functions, respectively. We also rotate the xticks, in this case, the date labels, by 45 degrees to increase legibility. Finally, don't forget to include a call to plt dot show() to display the plot.\n",
        "\n",
        "4. Daily users plot  \n",
        "As you can see, while the first half of the month sticks around 300 users per day, there's a huge spike in the middle of the month. This may be because we sent out a big marketing email, which reached many users who are not daily visitors of the site. These are the kinds of fluctuations we want to be aware of before diving in and calculating metrics.\n",
        "\n",
        "5. Let's practice!\n",
        "Now it's your turn to analyze this data."
      ]
    },
    {
      "cell_type": "code",
      "execution_count": 27,
      "metadata": {
        "id": "vd7QikIjRTNT"
      },
      "outputs": [],
      "source": [
        "3 #INITIAL EXPLORATORY ANALYSIS\n",
        "\n",
        "# How many users see marketing assets?\n",
        "\n",
        "\"\"\"\n",
        "Para empezar tengamos una idea de cuántos usuarios ÚNICOS ven nuestros activos de marketing cada día. Podemos usar el groupby() \n",
        " method en el DataFrame de markeing. Para agrupar por fecha, pasamos 'date_served' como argumento a groupby(). Luego, seleecionamos\n",
        " la columna 'user_id' de groupby (), y usamos el método nunique() para contar el número de usuarios únicos cada día. \n",
        "\"\"\"\n",
        "\n",
        "daily_users = marketing.groupby(['date_served'])['user_id'].nunique()"
      ]
    },
    {
      "cell_type": "code",
      "execution_count": 28,
      "metadata": {
        "colab": {
          "base_uri": "https://localhost:8080/"
        },
        "id": "67H0UgFkR1zC",
        "outputId": "4617b92d-cecb-446a-b8ef-8dd72830c80c"
      },
      "outputs": [
        {
          "name": "stdout",
          "output_type": "stream",
          "text": [
            "date_served\n",
            "2018-01-01    362\n",
            "2018-01-02    374\n",
            "2018-01-03    348\n",
            "2018-01-04    323\n",
            "2018-01-05    319\n",
            "2018-01-06    308\n",
            "2018-01-07    275\n",
            "2018-01-08    312\n",
            "2018-01-09    312\n",
            "2018-01-10    337\n",
            "2018-01-11    310\n",
            "2018-01-12    301\n",
            "2018-01-13    306\n",
            "2018-01-14    305\n",
            "2018-01-15    767\n",
            "2018-01-16    388\n",
            "2018-01-17    369\n",
            "2018-01-18    318\n",
            "2018-01-19    305\n",
            "2018-01-20    311\n",
            "2018-01-21    229\n",
            "2018-01-22    178\n",
            "2018-01-23    172\n",
            "2018-01-24    190\n",
            "2018-01-25    184\n",
            "2018-01-26    222\n",
            "2018-01-27    320\n",
            "2018-01-28    320\n",
            "2018-01-29    319\n",
            "2018-01-30    317\n",
            "2018-01-31    340\n",
            "Name: user_id, dtype: int64\n"
          ]
        }
      ],
      "source": [
        "print(daily_users)"
      ]
    },
    {
      "cell_type": "code",
      "execution_count": 29,
      "metadata": {
        "colab": {
          "base_uri": "https://localhost:8080/",
          "height": 0
        },
        "id": "zdoYNh50R4bQ",
        "outputId": "77269ae2-a487-4770-d508-eeff8eead709"
      },
      "outputs": [
        {
          "data": {
            "application/vnd.google.colaboratory.intrinsic+json": {
              "type": "string"
            },
            "text/plain": [
              "'\\nA partir del resultado de print(daily_users), no es fácil interpretar los resultados cuando se imprimen en una tabla. Es por eso,\\nque es mucho más fácil notar fluctuaciones en las métricas cuando las trazamos. Vamos a importar matplotlib, y luego trazamos la \\nserie daily_users, es una muy buena práctica agregar títulos y etiquetas a los gráficos para transmitir claramente qué información \\ncontiene el gráfico. \\n\\n *aclaración: en este caso, con plt.xticks, giramos o rotamos las etiquetas de fecha en 45 grados para aumentar la legibilidad. \\n'"
            ]
          },
          "execution_count": 29,
          "metadata": {
            "tags": []
          },
          "output_type": "execute_result"
        }
      ],
      "source": [
        "# VISUALIZING RESULTS\n",
        "\"\"\"\n",
        "A partir del resultado de print(daily_users), no es fácil interpretar los resultados cuando se imprimen en una tabla. Es por eso,\n",
        "que es mucho más fácil notar fluctuaciones en las métricas cuando las trazamos. Vamos a importar matplotlib, y luego trazamos la \n",
        "serie daily_users, es una muy buena práctica agregar títulos y etiquetas a los gráficos para transmitir claramente qué información \n",
        "contiene el gráfico. \n",
        "\n",
        " *aclaración: en este caso, con plt.xticks, giramos o rotamos las etiquetas de fecha en 45 grados para aumentar la legibilidad. \n",
        "\"\"\""
      ]
    },
    {
      "cell_type": "code",
      "execution_count": 30,
      "metadata": {
        "colab": {
          "base_uri": "https://localhost:8080/",
          "height": 0
        },
        "id": "n58-rALiU6ww",
        "outputId": "41eb3254-5ff4-4cbd-e3d3-7143162d1206"
      },
      "outputs": [
        {
          "data": {
            "image/png": "[encoded data removed]",
            "text/plain": [
              "<Figure size 432x288 with 1 Axes>"
            ]
          },
          "metadata": {
            "needs_background": "light",
            "tags": []
          },
          "output_type": "display_data"
        }
      ],
      "source": [
        "\n",
        "import matplotlib.pyplot as plt\n",
        "\n",
        "        #PLOT\n",
        "daily_users.plot()\n",
        "\n",
        "        #Annotate\n",
        "plt.title('Daily number of users who see ads')\n",
        "plt.xlabel('Date')\n",
        "plt.ylabel('Number of users')\n",
        "plt.xticks(rotation = 45)\n",
        "plt.show()"
      ]
    },
    {
      "cell_type": "code",
      "execution_count": 31,
      "metadata": {
        "colab": {
          "base_uri": "https://localhost:8080/",
          "height": 0
        },
        "id": "Q5koC_etWWT5",
        "outputId": "5e8a1b4c-276c-4416-979c-c17c6eb6edb3"
      },
      "outputs": [
        {
          "data": {
            "application/vnd.google.colaboratory.intrinsic+json": {
              "type": "string"
            },
            "text/plain": [
              "'\\nDel gráfico se puede observar que: mientras la primera mitad del mes se queda con 300 usuarios por día, hay un aumento a\\nmediadios de mes. Esto puede deberse a que enviamos un gran email de marketing , que llegó a muchos usuarios que no son\\nvisitantes diarios del sitio.\\nEstos son los tipos de fluctuaciones que queremos conocer antes de sumergirnos y calcular métricas. \\n'"
            ]
          },
          "execution_count": 31,
          "metadata": {
            "tags": []
          },
          "output_type": "execute_result"
        }
      ],
      "source": [
        "\"\"\"\n",
        "Del gráfico se puede observar que: mientras la primera mitad del mes se queda con 300 usuarios por día, hay un aumento a\n",
        "mediadios de mes. Esto puede deberse a que enviamos un gran email de marketing , que llegó a muchos usuarios que no son\n",
        "visitantes diarios del sitio.\n",
        "Estos son los tipos de fluctuaciones que queremos conocer antes de sumergirnos y calcular métricas. \n",
        "\"\"\""
      ]
    },
    {
      "cell_type": "markdown",
      "metadata": {
        "id": "q6IMsUgCkDQd"
      },
      "source": [
        "#    Chapter 2: 'Exploratory Analysis & Summary Statistics'"
      ]
    },
    {
      "cell_type": "markdown",
      "metadata": {
        "id": "yBLcs9JikNR9"
      },
      "source": [
        "\n",
        "\n",
        "---\n",
        "\n",
        "\n",
        "> Introduction to common marketing metrics\n",
        "\n",
        "> Customer segmentation\n",
        "\n",
        "> Plotting campaign results (I)\n",
        "\n",
        ">  Plotting campaign results (II)\n",
        "\n",
        "\n",
        "\n",
        "\n",
        "\n",
        "\n",
        "\n",
        "\n"
      ]
    },
    {
      "cell_type": "markdown",
      "metadata": {
        "id": "HDNyDVN7cgGy"
      },
      "source": [
        "**# 2.1 Introduction to common marketing metrics**\n",
        "In this lesson, we're going to discuss common marketing terms and metrics and how these metrics are typically measured.\n",
        "\n",
        "2. Was the campaign successful?  \n",
        "As a data professional, you will often find yourself translating business questions into measurable outcomes. One of the most common questions you might be asked is, \"Was the campaign successful?\". At first, this might feel like an intimidating question. There are so many ways one could measure campaign success! That said, there are a few kinds of metrics you will find yourself using over and over again. For a marketing team, campaign success is typically measured by conversion rate. This is to say, of all the people who came into contact with your marketing campaign, how many bought the product? Depending on the business, this could mean that a person made a purchase or subscribed to your service. In addition, many subscription businesses care about retention. Once a user has signed up for a subscription, are they still a subscriber one, three or twelve months in? This metric can be particularly difficult to measure because it requires patience. We can't know 90-day retention rates until 90 days have passed since a user initially subscribed.\n",
        "\n",
        "3. Conversion rate  \n",
        "Conversion rate is the percentage of people that we market to who ultimately convert to our product. In this course, we will be focusing on a subscription service and will be talking about conversion in terms of subscriptions.\n",
        "\n",
        "4. Calculating conversion rate using pandas  \n",
        "To calculate the total number of people who converted, we slice the DataFrame to include only the rows where \"converted\" equals True and then count the unique user_ids using nunique(). Next, we calculate the total number of people we marketed to. We can do this by counting all the unique user IDs in our dataset. Now that we have the total number of users and users who subscribed, we can calculate conversion rate by dividing subscribers by total.\n",
        "\n",
        "5. Retention rate\n",
        "Retention rate is the percentage of people that remain subscribed after a certain period of time. In this course, we will focus on 1-month retention.\n",
        "\n",
        "6. Calculating retention rate  \n",
        "To determine retention rate, we first calculate the total number of users who remain subscribers after one month. This information is available in the column \"is_retained\". We now slice the DataFrame to include only rows where the user was retained, that is, where is_retained equals True and count the unique user_ids. We can reuse our \"subscribers\" calculation from the conversion rate calculation, as the number of total users who originally subscribed remains the same. Finally, we divide the number of users who were retained by the number of users who subscribed to calculate the retention rate.\n",
        "\n",
        "7. Let's practice!  \n",
        "Now that you understand the basics of how to determine campaign effectiveness let's practice!"
      ]
    },
    {
      "cell_type": "code",
      "execution_count": 32,
      "metadata": {
        "colab": {
          "base_uri": "https://localhost:8080/",
          "height": 144
        },
        "id": "yb0JHxLBkxj0",
        "outputId": "8872a3a0-a620-45c5-c63e-856067b7b44c"
      },
      "outputs": [
        {
          "data": {
            "application/vnd.google.colaboratory.intrinsic+json": {
              "type": "string"
            },
            "text/plain": [
              "' \\n    we are going to discuss common marketing terms and metrics and how these metrics are typically measured.\\n Como profesional de datos, a menudo te vas a encontrar traduciendo preguntas comerciales en resultados medibles. Una de las \\n preguntas más comunes que te pueden hacer es ¿tuvo éxito la campaña? (was the campaign successful?). Hay tantas formas \\n en que se puede medir el éxito de una campaña, por ejemplo estas diferentes métricas:\\n  - Para un equipo de marketing, el éxito de la campaña generalmente se mide por la tasa de conversión  (CONVERSION RATE)\\n    Es decir, de todas las personas que entraron en contacto con la campaña de marketing, ¿cuántas compraron el producto?\\n    Dependiendo del negocio, esto podría significar que una persona realizó una compra o se suscribió a su servicio.\\n  \\n  - Además, muchas empresas de suscrición se preocupan por la retención (RETENTION RATE). Una vez que un usuario se ha \\n  registrado para una suscripción, ¿sique siendo un suscriptor dentro de uno, tres o doce meses?. Esta métrica puede ser\\n  particularmente dificil de medir porque requiere paciencia. No podemos conocer las tasas de retención de 90 días hasta\\n  que hayan pasado 90 días desde que un usuario se suscribió inicialmente. \\n\\n'"
            ]
          },
          "execution_count": 32,
          "metadata": {
            "tags": []
          },
          "output_type": "execute_result"
        }
      ],
      "source": [
        "1 # INTRODUCTION TO COMMON MARKETING METRICS\n",
        "\"\"\" \n",
        "    we are going to discuss common marketing terms and metrics and how these metrics are typically measured.\n",
        " Como profesional de datos, a menudo te vas a encontrar traduciendo preguntas comerciales en resultados medibles. Una de las \n",
        " preguntas más comunes que te pueden hacer es ¿tuvo éxito la campaña? (was the campaign successful?). Hay tantas formas \n",
        " en que se puede medir el éxito de una campaña, por ejemplo estas diferentes métricas:\n",
        "  - Para un equipo de marketing, el éxito de la campaña generalmente se mide por la tasa de conversión  (CONVERSION RATE)\n",
        "    Es decir, de todas las personas que entraron en contacto con la campaña de marketing, ¿cuántas compraron el producto?\n",
        "    Dependiendo del negocio, esto podría significar que una persona realizó una compra o se suscribió a su servicio.\n",
        "  \n",
        "  - Además, muchas empresas de suscrición se preocupan por la retención (RETENTION RATE). Una vez que un usuario se ha \n",
        "  registrado para una suscripción, ¿sique siendo un suscriptor dentro de uno, tres o doce meses?. Esta métrica puede ser\n",
        "  particularmente dificil de medir porque requiere paciencia. No podemos conocer las tasas de retención de 90 días hasta\n",
        "  que hayan pasado 90 días desde que un usuario se suscribió inicialmente. \n",
        "\n",
        "\"\"\""
      ]
    },
    {
      "cell_type": "code",
      "execution_count": 33,
      "metadata": {
        "colab": {
          "base_uri": "https://localhost:8080/",
          "height": 71
        },
        "id": "r19G1FcC5Iqn",
        "outputId": "2879ac35-0211-458b-93b8-36d1b19ac014"
      },
      "outputs": [
        {
          "data": {
            "application/vnd.google.colaboratory.intrinsic+json": {
              "type": "string"
            },
            "text/plain": [
              "'\\nConversion rate = Number of people who convert / total number of people we marketed to\\n\\n(La tasa de conversión es el porcentaje de personas a las que comercializamos\\ny que finalmente se convierten a nuestro producto)\\n\\nEn este apartado se va a hablar en términos de suscripciones.\\n'"
            ]
          },
          "execution_count": 33,
          "metadata": {
            "tags": []
          },
          "output_type": "execute_result"
        }
      ],
      "source": [
        "#Conversion rate\n",
        "\n",
        "\"\"\"\n",
        "Conversion rate = Number of people who convert / total number of people we marketed to\n",
        "\n",
        "(La tasa de conversión es el porcentaje de personas a las que comercializamos\n",
        "y que finalmente se convierten a nuestro producto)\n",
        "\n",
        "En este apartado se va a hablar en términos de suscripciones.\n",
        "\"\"\""
      ]
    },
    {
      "cell_type": "code",
      "execution_count": 34,
      "metadata": {
        "id": "7CxXdjlW5kfk"
      },
      "outputs": [],
      "source": [
        "# Calculating conversion rate using pandas\n",
        "\n",
        "# Para calcular la tasa de conversión,se SLICE el DataFrame para incluir sólo las filas donde 'convertido' es igual a True, y\n",
        "#  luego cuenta los user_ids únicos.\n",
        "\n",
        "subscribers = marketing[marketing ['converted']==True]['user_id'].nunique()\n",
        "\n",
        "#Luego calculamos el número total de personas a las que comercializamos.\n",
        "\n",
        "total = marketing['user_id'].nunique()\n",
        "\n",
        "conv_rate = subscribers/total"
      ]
    },
    {
      "cell_type": "code",
      "execution_count": 35,
      "metadata": {
        "colab": {
          "base_uri": "https://localhost:8080/"
        },
        "id": "wv54Yg955zUU",
        "outputId": "c260917b-3faa-4601-ba4a-7024e7b79e56"
      },
      "outputs": [
        {
          "name": "stdout",
          "output_type": "stream",
          "text": [
            "13.89 %\n"
          ]
        }
      ],
      "source": [
        "print(round(conv_rate*100,2), '%')"
      ]
    },
    {
      "cell_type": "code",
      "execution_count": 36,
      "metadata": {
        "colab": {
          "base_uri": "https://localhost:8080/",
          "height": 53
        },
        "id": "9o4E0C288S2L",
        "outputId": "24579f40-da17-4751-f7ff-1f532218694f"
      },
      "outputs": [
        {
          "data": {
            "application/vnd.google.colaboratory.intrinsic+json": {
              "type": "string"
            },
            "text/plain": [
              "'\\nretention rate = Number of people who remain subscribed / Total number of people who converted\\n\\nLa tasa de retención es el porcentaje de personas que permanecen suscritas después de un cierto período de tiempo. \\n\\nEn este caso sólo se va a centrar en la retención de 1 mes. \\n'"
            ]
          },
          "execution_count": 36,
          "metadata": {
            "tags": []
          },
          "output_type": "execute_result"
        }
      ],
      "source": [
        "# Retention rate\n",
        "\n",
        "\"\"\"\n",
        "retention rate = Number of people who remain subscribed / Total number of people who converted\n",
        "\n",
        "La tasa de retención es el porcentaje de personas que permanecen suscritas después de un cierto período de tiempo. \n",
        "\n",
        "En este caso sólo se va a centrar en la retención de 1 mes. \n",
        "\"\"\""
      ]
    },
    {
      "cell_type": "code",
      "execution_count": 37,
      "metadata": {
        "colab": {
          "base_uri": "https://localhost:8080/"
        },
        "id": "OQSt0X8GBljA",
        "outputId": "ae5451be-e343-4a97-bdab-8ca31deeccc5"
      },
      "outputs": [
        {
          "name": "stdout",
          "output_type": "stream",
          "text": [
            "100.67 %\n"
          ]
        }
      ],
      "source": [
        "# CALCULATING RETENTION RATE\n",
        "\"\"\"\"\n",
        "Para determinar la tasa de retención, primero calculamos el número total de usuarios \n",
        "  que siguen siendo suscriptores después de un mes. Esta información se encuentra disponible en la columna 'is _retained'. Ahora lo\n",
        "  que vamos a hacer es dividir (SLICE) el DataFrame para incluir sòlo filas donde el usuario estaba retenido, es decir, donde\n",
        "  'is_retained' es igual a True, y cuenta los user_ids únicos. \n",
        "\"\"\"\n",
        "retained = marketing[marketing['is_retained']== True]['user_id'].nunique()\n",
        "\n",
        "subscribers = marketing[marketing['converted']== True]['user_id'].nunique()\n",
        "\n",
        "retention = retained/subscribers\n",
        "\n",
        "print(round(retention+100, 2), '%')\n",
        "\n",
        "\n"
      ]
    },
    {
      "cell_type": "markdown",
      "metadata": {
        "id": "4W8ZpbSGc-O3"
      },
      "source": [
        "**# 2.2 Customer segmentation**\n",
        "In this lesson, we will focus on customer segmentation.\n",
        "\n",
        "2. Common ways to segment audiences  \n",
        "In addition to high-level metrics, it's important to segment customers by who you're marketing to. Segmenting means breaking down metrics by specific characteristics. For instance, in addition to looking at conversion rates overall, you might also want to look at conversion rate by age group. It's possible that a campaign had a low conversion rate overall, but was super effective for users who were 55 years and up. Rather than calling the campaign a failure, your team has learned a new way to market to older individuals! That's great news! You could use these results to conduct a campaign where users 55 years and up receive a different marketing technique than everyone else.\n",
        "\n",
        "3. Segmenting using pandas  \n",
        "One way to segment is by subscribing channel. Let's check the retention rate for users who converted by clicking on a House Ad. To do this, we first subset the DataFrame to include data only for House Ads, that is, where subscribing_channel equals House Ads. Using the house_ads DataFrame, you can calculate retention rate like before, dividing the total number of users retained by the number of subscribers who originally subscribed through a House Ad. That's great! But how do you know if this retention rate is good or bad? Ideally, you will compare retention rates across all channels to determine whether some channels perform better than others.\n",
        "\n",
        "4. There must be an easier way to segment!  \n",
        "The previous method is great if you only care about some of the sub-segments that are in your dataset. However, recalculating retention rate can get tedious if you want to compare across all channels.\n",
        "\n",
        "5. Segmenting using pandas - groupby()  \n",
        "This is when the flexibility of pandas comes in handy! You can use the groupby() method to analyze and calculate statistics for multiple sub-segments in your data. Here we first subset the data to include only the customers who were retained and then group by subscribing_channel. Then, we count the number of unique user ids to find the total number of retained customers per channel.\n",
        "\n",
        "6. Segmenting using pandas - groupby()  \n",
        "Similarly, we subset the data to include the customers who subscribed, group by subscribing_channel and count the number of unique user ids to find the total number of subscribers for each channel.\n",
        "\n",
        "7. Segmenting results  \n",
        "Finally, you can divide the number of retained customers by the total number of subscribers to find the retention rate for each channel. And here are our results. It appears email has the highest retention rate among our marketing channels.\n",
        "\n",
        "8. Let's practice!\n",
        "It's time for you to calculate metrics for different segments in the data."
      ]
    },
    {
      "cell_type": "code",
      "execution_count": 38,
      "metadata": {
        "colab": {
          "base_uri": "https://localhost:8080/",
          "height": 144
        },
        "id": "D-qqLbarCDqe",
        "outputId": "09ae716b-bbe0-46c9-e8f9-85ee22816e87"
      },
      "outputs": [
        {
          "data": {
            "application/vnd.google.colaboratory.intrinsic+json": {
              "type": "string"
            },
            "text/plain": [
              "'\\nEn esta parte nos vamos a centrar en la segmentación de clientes. \\n  Además de las métricas de alto nivel, es importante segmentar a los clientes según a quien te queres dirigir en el mercado. Teniendo\\n  en cuenta esto, segmentar significa desglosar las métricas por características específicas. Por ejemplo, además de mirar las tasas\\n  de conversión en general, es posible que también se desee ver la tasa de conversión por grupo de edad (age group). Es posible que \\n  una campaña tenga una tasa de conversió baja en general, pero fue súper efectivo para usuarios de 55 años en adelante. En lugar de\\n  llamar a la campaña un fracaso, su equipo ha aprendido una nueva forma de promocionar a las personas mayores. Podes utilizar estos\\n  resultados para realizar una campaña en la que los usuarios de 55 años y más reciben una técnica de marketing diferente a la de\\n  los demás. \\n\\n  -Common ways to segment audiences:\\n      -Age\\n      -Gender\\n      -Location\\n      -Past interaction(s) with the business\\n      -Marketing channels users interacted with\\n \\n'"
            ]
          },
          "execution_count": 38,
          "metadata": {
            "tags": []
          },
          "output_type": "execute_result"
        }
      ],
      "source": [
        "2 #CUSTOMER SEGMENTATION\n",
        "\n",
        "\"\"\"\n",
        "En esta parte nos vamos a centrar en la segmentación de clientes. \n",
        "  Además de las métricas de alto nivel, es importante segmentar a los clientes según a quien te queres dirigir en el mercado. Teniendo\n",
        "  en cuenta esto, segmentar significa desglosar las métricas por características específicas. Por ejemplo, además de mirar las tasas\n",
        "  de conversión en general, es posible que también se desee ver la tasa de conversión por grupo de edad (age group). Es posible que \n",
        "  una campaña tenga una tasa de conversió baja en general, pero fue súper efectivo para usuarios de 55 años en adelante. En lugar de\n",
        "  llamar a la campaña un fracaso, su equipo ha aprendido una nueva forma de promocionar a las personas mayores. Podes utilizar estos\n",
        "  resultados para realizar una campaña en la que los usuarios de 55 años y más reciben una técnica de marketing diferente a la de\n",
        "  los demás. \n",
        "\n",
        "  -Common ways to segment audiences:\n",
        "      -Age\n",
        "      -Gender\n",
        "      -Location\n",
        "      -Past interaction(s) with the business\n",
        "      -Marketing channels users interacted with\n",
        " \n",
        "\"\"\""
      ]
    },
    {
      "cell_type": "code",
      "execution_count": 39,
      "metadata": {
        "colab": {
          "base_uri": "https://localhost:8080/"
        },
        "id": "N7ddaNKxRiys",
        "outputId": "390766bb-abb2-49e7-f020-762769c63de6"
      },
      "outputs": [
        {
          "name": "stdout",
          "output_type": "stream",
          "text": [
            "58.05 %\n"
          ]
        }
      ],
      "source": [
        "# SEGMENTING USING PANDAS\n",
        "\n",
        "\"\"\"\n",
        "Una forma de segmentar es suscribiendo el canal. Lo que se va a hacer es comprobar la tasa de retención de los usuarios que \n",
        "realizaron una conversión haciendo clic en un anuncio interno. Para hacer esto, primero hacemos el subset del DataFrame para incluir\n",
        "solamente los datos de los anuncios iternos, es decir, donde subscribing_channel es igual a House Ads.\n",
        "  Con el DataFrame de house_ads se puede calcular la tasa de retención como antes, dividiendo el  número total de usuarios retenidos\n",
        "  por el número de suscriptores que se suscribieron originalmente a través de un anuncio interno. \n",
        "\"\"\"\n",
        "\n",
        "    #SUBSET TO INCLUDE ONLY HOUSE ADS\n",
        "\n",
        "house_ads = marketing[marketing['subscribing_channel']== 'House Ads']\n",
        "\n",
        "retained = house_ads[house_ads['is_retained'] == True]['user_id'].nunique()\n",
        "\n",
        "subscribers = house_ads[house_ads['converted'] == True]['user_id'].nunique()\n",
        "\n",
        "\n",
        "retention_rate = retained/subscribers\n",
        "print(round(retention_rate*100,2), '%')"
      ]
    },
    {
      "cell_type": "code",
      "execution_count": 40,
      "metadata": {
        "colab": {
          "base_uri": "https://localhost:8080/"
        },
        "id": "dmQ_abnTTMr2",
        "outputId": "7827d76a-7864-462f-d0a5-b917a3a23a36"
      },
      "outputs": [
        {
          "name": "stdout",
          "output_type": "stream",
          "text": [
            "subscribing_channel\n",
            "Email        141\n",
            "Facebook     152\n",
            "House Ads    173\n",
            "Instagram    158\n",
            "Push          54\n",
            "Name: user_id, dtype: int64\n"
          ]
        }
      ],
      "source": [
        "# ¿Cómo saber si esta tasa de retención es buena o mala?\n",
        "\n",
        "\"\"\"\n",
        "    Idealmente, se va a comparar la tasa de retención en todos los canales para determinar sia lgunos canales funcionan mejor \n",
        "que otros.\n",
        "\n",
        "PERO ... \n",
        "\n",
        "El método anterior es excelente si sólo te preocupan algunos de los subsegmentos que están en tu conjunto de datos. Sin embargo, \n",
        "volver a calcular la tasa de retención puede resultar bastante tedioso si desea comparar todos los canales. Aquí es cuando la \n",
        "flexibilidad de PANDAS es muy útil-\n",
        "\n",
        "Se puede utilizar el método GROUPBY() para analizar y calcular estadísticas para múltiples subsegmentos en sus datos. Lo que hacemos\n",
        "ahora es, primero hacemos un subconjunto de los datos para incluir sólo a los clientes que fueron retenidos y luego agrupamos por \n",
        "subsribing_channel, luego contamos la cantidad de ID de usuarios únicos para encontrar la cantidad total de clientes retenidos por\n",
        "canal.\n",
        "\"\"\"\n",
        "\n",
        "# GROUP BY SYBSCRIBING_CHANNEL AND CALCULATE RETENTION\n",
        " \n",
        "retained2 = marketing[marketing['is_retained'] == True].groupby(['subscribing_channel'])['user_id'].nunique()\n",
        "\n",
        "print(retained2)\n",
        "\n",
        "\n"
      ]
    },
    {
      "cell_type": "code",
      "execution_count": 41,
      "metadata": {
        "colab": {
          "base_uri": "https://localhost:8080/"
        },
        "id": "Drza-Pq6V14a",
        "outputId": "e39cafc3-28c5-4a56-e2bd-8c99fb592d7c"
      },
      "outputs": [
        {
          "name": "stdout",
          "output_type": "stream",
          "text": [
            "subscribing_channel\n",
            "Email        161\n",
            "Facebook     221\n",
            "House Ads    298\n",
            "Instagram    232\n",
            "Push          77\n",
            "Name: user_id, dtype: int64\n"
          ]
        }
      ],
      "source": [
        "\"\"\"\n",
        "De manera similar, hacemos el subconjunto de los datos para incluir los clientes que se suscribieron, agrupados por \n",
        "suscribing_channel, y contar el número de identificadores de usuarios únicos para encontrar el número total de suscriptores\n",
        "para cada canal \n",
        "\"\"\"\n",
        "\n",
        "# SEGMENTING USING PANDAS - GROUPBY()\n",
        "# group by subscribing_channel and calculate subscribers\n",
        "\n",
        "subscribers = marketing[marketing['converted'] == True].groupby(['subscribing_channel'])['user_id'].nunique()\n",
        "\n",
        "print(subscribers)"
      ]
    },
    {
      "cell_type": "code",
      "execution_count": 42,
      "metadata": {
        "colab": {
          "base_uri": "https://localhost:8080/"
        },
        "id": "9dHm48224q59",
        "outputId": "19fe1d78-22c6-4e97-cc55-d147339e455b"
      },
      "outputs": [
        {
          "name": "stdout",
          "output_type": "stream",
          "text": [
            "subscribing_channel\n",
            "Email        87.577640\n",
            "Facebook     68.778281\n",
            "House Ads    58.053691\n",
            "Instagram    68.103448\n",
            "Push         70.129870\n",
            "Name: user_id, dtype: float64\n"
          ]
        }
      ],
      "source": [
        "\"\"\"\n",
        "Por último, puede dividir el número de clientes retenidos por el número total de suscriptores para encontrar la tasa de retención\n",
        "de cada canal.\n",
        "\"\"\"\n",
        "\n",
        "#SEGMENTING RESULTS\n",
        "#  Calculate the retention rate across the DataFrame\n",
        "\n",
        "channel_retention_rate = (retained2/subscribers)*100\n",
        "print(channel_retention_rate)\n",
        "\n",
        "# PARECE QUE EMAIL tiene la tasa de retención más alta entre los canales de marketing"
      ]
    },
    {
      "cell_type": "markdown",
      "metadata": {
        "id": "Z-nho9vAdgNe"
      },
      "source": [
        "# **3.1 Plotting campaign results (I)**\n",
        "Now that you've practiced aggregating and segmenting the results, it's time to learn how best to visualize these results in order to increase ease of interpretability, especially for people on our team who might be less comfortable with data.\n",
        "\n",
        "2. Comparing language conversion rates  \n",
        "Let's use the language_conversion_rate series you created in the previous lesson. First, we'll import matplotlib's pyplot module as plt. Next, we call the plot() method on language_conversion_rate and specify the kind argument as bar indicating that we want to create a bar chart. Bar charts enable us to visually compare the conversion rates. Next, we add a title and axis labels to this plot. Finally, we show the plot using plt dot show().\n",
        "\n",
        "3. Retention by language chart  \n",
        "And here's our plot! As we saw in the last lesson, Arabic and German have the highest conversion rates. However, instead of looking at a bunch of numbers, you can now quickly interpret the results by looking at the plot.\n",
        "\n",
        "4. Calculating subscriber quality  \n",
        "In the previous lesson, we looked at how subscriber quality varied over time by looking at retention rates for each day. This was the code you used to calculate the daily retention rate. When looking at retention rates over time based on when users subscribed, we are doing a simple form of cohort analysis that helps us evaluate the quality of subscribers we're bringing in each day. If we see this metric trend up over time, that could mean we're getting better at converting users who are genuinely interested in our product or that we're improving our onboarding process once users subscribe.\n",
        "\n",
        "5. Preparing data to be plotted over time  \n",
        "Before we plot this data, let's first convert the pandas series into a DataFrame by calling the reset_index() method on the series and wrapping the output in a call to pd dot DataFrame. Then we rename the columns using the columns attribute. Make sure you provide column names in the correct order and that there's a label for every column.\n",
        "\n",
        "6. Visualizing data trended over time  \n",
        "Again, we call the plot() method on the daily_retention_rate DataFrame and pass the x and y arguments, that is, date_subscribed and retention_rate, respectively. Next, we add a title and x and y labels like in the previous chart. One thing to remember here is that matplotlib tries to be smart about the scale of the axes by rescaling it from the lowest to the highest values. While this is useful for dates on the x-axis, it has a negative side-effect for the values on the y-axis. The plot would show misleadingly large spikes in retention rates due to the range of the y-axis. Therefore, we use the ylim() function to explicitly set the y-axis to begin at 0.\n",
        "\n",
        "7. Daily subscriber quality chart  \n",
        "And here's our final plot showing how subscriber quality changed over time.\n",
        "\n",
        "8. Let's practice!  \n",
        "As you can imagine, there are endless ways to customize your charts to be more useful, interactive, and aesthetically pleasing. I encourage you to check out other plotting resources if this topic interests you. Now, let's practice!\n",
        "\n",
        "[FROM EXERCISE  \n",
        "When you want to understand how your campaign performed, it is essential to look at how key metrics changed throughout the campaign. Your key metrics can help you catch problems that may have happened during the campaign, such as a bug in the checkout system that led to a dip in conversion toward the end of your campaign. Metrics over time can also surface trends like gaining more subscribers over the weekends or on specific holidays.]\n"
      ]
    },
    {
      "cell_type": "code",
      "execution_count": 43,
      "metadata": {
        "colab": {
          "base_uri": "https://localhost:8080/",
          "height": 71
        },
        "id": "v6f2UqSl8XXV",
        "outputId": "b66f811c-4bdd-4a60-ae3e-fddbc8086878"
      },
      "outputs": [
        {
          "data": {
            "application/vnd.google.colaboratory.intrinsic+json": {
              "type": "string"
            },
            "text/plain": [
              "'\\nTeniendo en cuenta que ya se hizo la agregación y segmentación de los resultados, es momento de aprender la mejor forma de\\nvisualizar estos resultados para aumentar la facilidad de interpretabilidad, especialmente para las personas del equipo que \\npodría sentirme menos cómodas con los datos.\\n'"
            ]
          },
          "execution_count": 43,
          "metadata": {
            "tags": []
          },
          "output_type": "execute_result"
        }
      ],
      "source": [
        "3 #PLOTTING CAMPAIGN RESULTS (I)\n",
        "\n",
        "\"\"\"\n",
        "Teniendo en cuenta que ya se hizo la agregación y segmentación de los resultados, es momento de aprender la mejor forma de\n",
        "visualizar estos resultados para aumentar la facilidad de interpretabilidad, especialmente para las personas del equipo que \n",
        "podría sentirme menos cómodas con los datos.\n",
        "\"\"\"\n"
      ]
    },
    {
      "cell_type": "code",
      "execution_count": 44,
      "metadata": {
        "colab": {
          "base_uri": "https://localhost:8080/"
        },
        "id": "bHzdiaGsLX9v",
        "outputId": "a18c31ec-dd55-4436-ccfe-71fa9822f158"
      },
      "outputs": [
        {
          "name": "stdout",
          "output_type": "stream",
          "text": [
            "language_displayed\n",
            "Arabic     0.500000\n",
            "English    0.129167\n",
            "German     0.716216\n",
            "Spanish    0.200000\n",
            "Name: user_id, dtype: float64\n"
          ]
        }
      ],
      "source": [
        "#     COMPARING LANGUAGE CONVERSION RATE\n",
        "\n",
        "# TODO LO QUE SE USA PARA ESTA PARTE ES DEL EJERCICIO DEL MÓDULO\n",
        "\"\"\"\n",
        "Usamos la serie lenguage_conversion_rare que se creo antes, primero importamos el módulo matplotlib, luego llamamos the plot () \n",
        "method al lenguage_conversion_rate, y se especifica el argumento tipo como barra indicando que queremos crear un gráfico de \n",
        "barras.\n",
        "\n",
        "Los gráficos de barras nos permiten comparar visualmente las tasas de conversión, a continuación, agregamos un título y etiquetas\n",
        "de eje al gráfico. Y, finalmente, mostramos la gráfica usando plt.show()\n",
        "\"\"\"\n",
        "# Group by language_displayed and count unique users\n",
        "total = marketing.groupby(['language_displayed'])\\\n",
        "                                  ['user_id'].nunique()\n",
        "\n",
        "# Group by language_displayed and count unique conversions\n",
        "subscribers = marketing[marketing['converted'] == True]\\\n",
        "                       .groupby(['language_displayed'])\\\n",
        "                       ['user_id'].nunique()\n",
        "\n",
        "# Calculate the conversion rate for all languages\n",
        "language_conversion_rate = subscribers/total\n",
        "print(language_conversion_rate)\n"
      ]
    },
    {
      "cell_type": "code",
      "execution_count": 45,
      "metadata": {
        "colab": {
          "base_uri": "https://localhost:8080/",
          "height": 331
        },
        "id": "9FskNdf2MfcY",
        "outputId": "9221b18c-0556-4c86-f0b8-277d506e7c49"
      },
      "outputs": [
        {
          "data": {
            "image/png": "[encoded data removed]",
            "text/plain": [
              "<Figure size 432x288 with 1 Axes>"
            ]
          },
          "metadata": {
            "needs_background": "light",
            "tags": []
          },
          "output_type": "display_data"
        }
      ],
      "source": [
        "import matplotlib.pyplot as plt\n",
        " # Crate a bar chart using channel retention DataFrame\n",
        "\n",
        "language_conversion_rate.plot(kind = 'bar')\n",
        "\n",
        "# Add atittle and x and y-axis labels\n",
        "plt.title('Conversion rate by language/n', size = 16)\n",
        "plt.xlabel('Language', size = 14)\n",
        "plt.ylabel('Conversion rate (%)', size = 14)\n",
        "\n",
        "# Display the plot\n",
        "plt.show()"
      ]
    },
    {
      "cell_type": "code",
      "execution_count": 49,
      "metadata": {
        "id": "-ExB1g8HNsHU"
      },
      "outputs": [],
      "source": [
        "# CALCULATING SUBSCRIBER QUALITY\n",
        "\"\"\"\n",
        "En la lección anterior, se analizó cómo la calidad del subscriptor varia en el tiempo observando la variable retention rate \n",
        "para cada día. Ésta fue el código que se uso para calcular the daily retention rate: \n",
        "\n",
        "\"\"\"\n",
        "# Group by language_displayed and count unique users\n",
        "total = marketing.groupby(['date_subscribed'])\\\n",
        "                                  ['user_id'].nunique()\n",
        "\n",
        "# Group by language_displayed and count unique conversions\n",
        "retained = marketing[marketing['is_retained'] == True]\\\n",
        "                       .groupby(['date_subscribed'])\\\n",
        "                       ['user_id'].nunique()\n",
        "\n",
        "# Calculate the conversion rate for all languages\n",
        "daily_retention_rate = retained/total\n",
        "\"\"\"\n",
        "Al observar las tasas de retención a lo largo del tiempo en función de cuándo se subscribieron los usuarios, estamos haciendo\n",
        "un simple forma de análisis de cohortes que nos ayuda a evaluar la calidad de los suscriptores que se incorporan cada día.\n",
        "Si vemos que esta tendencia de métrica aumenta con el tiempo, eso podría significar que estamos mejorando en la conversión de \n",
        "usuarios que están realmente interesados en nuestro producto o que estamos mejorando nuestro proceso de incorporación una vez\n",
        "que los usuarios se suscriben.\n",
        "\n",
        "Antes de trazar estos datos, primero hay que convrtir la serie de pandas en un DATAFRAME llamando el method reset_index() en la serie,\n",
        "y envolviendo la salida en una llamada a pd.dataframe. Luego cambiamos el nombre de las columnas usando el atribute columns. Hay que\n",
        "asegurarse de proporcionar los nombres de las columnas en el orden correcto y de que haya una etiqueta para cada columna\n",
        "\"\"\"\n",
        "\n",
        "#Reset index to turn the Series into a DataFrame\n",
        "\n",
        "daily_retention_rate = pd.DataFrame(daily_retention_rate.reset_index())\n",
        "\n",
        "#Rename columns\n",
        "\n",
        "daily_retention_rate.columns = ['date_subscribed', 'retention_rate']"
      ]
    },
    {
      "cell_type": "code",
      "execution_count": null,
      "metadata": {
        "id": "HJLMY95UuhlL"
      },
      "outputs": [],
      "source": []
    }
  ],
  "metadata": {
    "colab": {
      "name": "Analyzing Marketing Campaigns with pandas.ipynb",
      "provenance": []
    },
    "kernelspec": {
      "display_name": "Python 3",
      "name": "python3"
    }
  },
  "nbformat": 4,
  "nbformat_minor": 0
}
